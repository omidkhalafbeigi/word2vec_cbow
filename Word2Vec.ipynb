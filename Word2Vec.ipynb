{
  "nbformat": 4,
  "nbformat_minor": 0,
  "metadata": {
    "colab": {
      "name": "Word2Vec.ipynb",
      "provenance": [],
      "collapsed_sections": [],
      "authorship_tag": "ABX9TyPZ39IAbFROhCjaf1RyQuAy",
      "include_colab_link": true
    },
    "kernelspec": {
      "name": "python3",
      "display_name": "Python 3"
    },
    "language_info": {
      "name": "python"
    },
    "accelerator": "GPU"
  },
  "cells": [
    {
      "cell_type": "markdown",
      "metadata": {
        "id": "view-in-github",
        "colab_type": "text"
      },
      "source": [
        "<a href=\"https://colab.research.google.com/github/omidkhalafbeigi/word2vec_cbow/blob/main/Word2Vec.ipynb\" target=\"_parent\"><img src=\"https://colab.research.google.com/assets/colab-badge.svg\" alt=\"Open In Colab\"/></a>"
      ]
    },
    {
      "cell_type": "code",
      "execution_count": 42,
      "metadata": {
        "id": "p_g88ZVvYdEK"
      },
      "outputs": [],
      "source": [
        "import numpy as np\n",
        "import keras.backend as K\n",
        "from keras.models import Sequential\n",
        "from keras.layers import Dense, Embedding, Lambda\n",
        "from tensorflow.keras.utils import to_categorical\n",
        "from keras.preprocessing import sequence\n",
        "from keras.preprocessing.text import text_to_word_sequence, Tokenizer\n",
        "from matplotlib import pyplot as plt\n"
      ]
    },
    {
      "cell_type": "code",
      "source": [
        "sentences = ['this is the first sentence for word2vec',\n",
        "             'this is the second sentence',\n",
        "             'yet another sentence',\n",
        "             'one more sentence',\n",
        "             'and the final sentence']\n",
        "\n",
        "window_size = 2"
      ],
      "metadata": {
        "id": "oxdZ5YJEZ9bL"
      },
      "execution_count": 2,
      "outputs": []
    },
    {
      "cell_type": "code",
      "source": [
        "tokenizer = Tokenizer()\n",
        "tokenizer.fit_on_texts(sentences)\n",
        "words = list()\n",
        "one_hot = list()\n",
        "words_to_num = tokenizer.word_index\n",
        "\n",
        "vocab = len(words_to_num)"
      ],
      "metadata": {
        "id": "Kc1HugS2eGu8"
      },
      "execution_count": 3,
      "outputs": []
    },
    {
      "cell_type": "code",
      "source": [
        "model = Sequential()\n",
        "model.add(Embedding(input_dim=vocab, output_dim=2, input_shape=(2,)))\n",
        "model.add(Lambda(lambda x: K.mean(x, axis=1), output_shape=(2,)))\n",
        "model.add(Dense(vocab, activation='softmax'))\n",
        "model.compile(loss='categorical_crossentropy', optimizer='adam')\n",
        "model.summary()"
      ],
      "metadata": {
        "colab": {
          "base_uri": "https://localhost:8080/"
        },
        "id": "PAEP58X6YtFX",
        "outputId": "370af987-6ecc-4559-85ba-de995deb9582"
      },
      "execution_count": 16,
      "outputs": [
        {
          "output_type": "stream",
          "name": "stdout",
          "text": [
            "Model: \"sequential_1\"\n",
            "_________________________________________________________________\n",
            " Layer (type)                Output Shape              Param #   \n",
            "=================================================================\n",
            " embedding_1 (Embedding)     (None, 2, 2)              28        \n",
            "                                                                 \n",
            " lambda_1 (Lambda)           (None, 2)                 0         \n",
            "                                                                 \n",
            " dense_1 (Dense)             (None, 14)                42        \n",
            "                                                                 \n",
            "=================================================================\n",
            "Total params: 70\n",
            "Trainable params: 70\n",
            "Non-trainable params: 0\n",
            "_________________________________________________________________\n"
          ]
        }
      ]
    },
    {
      "cell_type": "code",
      "source": [
        "encoded_sentences = list()\n",
        "for sentence_idx in range(len(sentences)):\n",
        "  encoded_sentence = list()\n",
        "  sentence = sentences[sentence_idx].split(' ')\n",
        "  for word_idx in range(len(sentence)):\n",
        "    num = words_to_num[sentence[word_idx]] - 1\n",
        "    encoded_sentence.append(num)\n",
        "\n",
        "  encoded_sentences.append(encoded_sentence)"
      ],
      "metadata": {
        "id": "0onuYmLfclOE"
      },
      "execution_count": 17,
      "outputs": []
    },
    {
      "cell_type": "code",
      "source": [
        "encoded_sentences"
      ],
      "metadata": {
        "colab": {
          "base_uri": "https://localhost:8080/"
        },
        "id": "_vKNAU01-0bz",
        "outputId": "f5de4800-ffe7-447e-f09a-8ea9f8898115"
      },
      "execution_count": 18,
      "outputs": [
        {
          "output_type": "execute_result",
          "data": {
            "text/plain": [
              "[[2, 3, 1, 4, 0, 5, 6],\n",
              " [2, 3, 1, 7, 0],\n",
              " [8, 9, 0],\n",
              " [10, 11, 0],\n",
              " [12, 1, 13, 0]]"
            ]
          },
          "metadata": {},
          "execution_count": 18
        }
      ]
    },
    {
      "cell_type": "code",
      "source": [
        "sentences"
      ],
      "metadata": {
        "colab": {
          "base_uri": "https://localhost:8080/"
        },
        "id": "HZursXuA9dpR",
        "outputId": "42af82df-84d1-4dbe-ae28-3036638b1022"
      },
      "execution_count": 19,
      "outputs": [
        {
          "output_type": "execute_result",
          "data": {
            "text/plain": [
              "['this is the first sentence for word2vec',\n",
              " 'this is the second sentence',\n",
              " 'yet another sentence',\n",
              " 'one more sentence',\n",
              " 'and the final sentence']"
            ]
          },
          "metadata": {},
          "execution_count": 19
        }
      ]
    },
    {
      "cell_type": "code",
      "source": [
        "epochs = 2000\n",
        "\n",
        "for epoch in range(epochs):\n",
        "  for sentence in encoded_sentences:\n",
        "    for target_idx in range(window_size, len(sentence)):\n",
        "      X = np.array(sentence[target_idx - window_size : target_idx]).reshape((1, -1))\n",
        "      y = to_categorical(y=sentence[target_idx], num_classes=vocab, dtype='int').reshape((1, -1))\n",
        "      loss = model.train_on_batch(X, y)\n",
        "\n",
        "  print(loss)"
      ],
      "metadata": {
        "id": "KjZQ92Haf9Os"
      },
      "execution_count": null,
      "outputs": []
    },
    {
      "cell_type": "code",
      "source": [
        "vectors = model.get_weights()[0]"
      ],
      "metadata": {
        "id": "L7_dHFIKAKjh"
      },
      "execution_count": 21,
      "outputs": []
    },
    {
      "cell_type": "code",
      "source": [
        "for key in words_to_num.keys():\n",
        "  words_to_num[key] -= 1"
      ],
      "metadata": {
        "id": "Ld6ziH-GIvyI"
      },
      "execution_count": 31,
      "outputs": []
    },
    {
      "cell_type": "code",
      "source": [
        "keys = list(words_to_num.keys())\n",
        "values = list(words_to_num.values())"
      ],
      "metadata": {
        "id": "OYjsK3UKJi_W"
      },
      "execution_count": 36,
      "outputs": []
    },
    {
      "cell_type": "code",
      "source": [
        "for idx in values:\n",
        "  x, y = vectors[idx][0], vectors[idx][1]\n",
        "  plt.scatter(x, y)\n",
        "  plt.annotate(keys[idx], (x, y))\n"
      ],
      "metadata": {
        "colab": {
          "base_uri": "https://localhost:8080/",
          "height": 267
        },
        "id": "7aOXQO92J0HS",
        "outputId": "490e2cba-6a54-4a71-b6e1-d8042f7cbbcb"
      },
      "execution_count": 52,
      "outputs": [
        {
          "output_type": "display_data",
          "data": {
            "image/png": "[encoded data removed]",
            "text/plain": [
              "<Figure size 432x288 with 1 Axes>"
            ]
          },
          "metadata": {
            "needs_background": "light"
          }
        }
      ]
    }
  ]
}